{
  "cells": [
    {
      "cell_type": "markdown",
      "metadata": {
        "id": "view-in-github",
        "colab_type": "text"
      },
      "source": [
        "<a href=\"https://colab.research.google.com/github/Keith-Clinton/Keith-Clinton/blob/main/Untitled0.ipynb\" target=\"_parent\"><img src=\"https://colab.research.google.com/assets/colab-badge.svg\" alt=\"Open In Colab\"/></a>"
      ]
    },
    {
      "cell_type": "code",
      "execution_count": null,
      "metadata": {
        "colab": {
          "background_save": true
        },
        "id": "G6iKJpXh4M0N",
        "outputId": "637dc422-7a39-43ce-d240-57a96af220ac"
      },
      "outputs": [
        {
          "name": "stdout",
          "output_type": "stream",
          "text": [
            "Hello world\n"
          ]
        }
      ],
      "source": [
        "print(\"Hello world\")"
      ]
    },
    {
      "cell_type": "code",
      "source": [
        "import smtplib, ssl\n",
        "port=465 # For SSL\n",
        "smtp_server=\"smtp.gmail.com\"\n",
        "sender_email=\"my@gmail.com\" #keithclinton00@gmail.com\n",
        "receiver_email=\"your@gmail.com\" #bokemservices@gmail.com\n",
        "password=input(\"Enter password\")\n",
        "message=input(\"input message\")\n"
      ],
      "metadata": {
        "colab": {
          "base_uri": "https://localhost:8080/"
        },
        "id": "fo2TtDhTPYwk",
        "outputId": "5005b438-fcf0-4a5d-8671-4383edbaf65f"
      },
      "execution_count": null,
      "outputs": [
        {
          "name": "stdout",
          "output_type": "stream",
          "text": [
            "Enter passwordJulieken.\n",
            "input messageBusiness is back\n"
          ]
        }
      ]
    },
    {
      "cell_type": "code",
      "source": [
        "def greet():\n",
        "  print(\"hello\")\n",
        "  print(\"goodmorning\")\n",
        "greet()\n",
        "greet()"
      ],
      "metadata": {
        "colab": {
          "base_uri": "https://localhost:8080/"
        },
        "id": "4Oku827M4uqD",
        "outputId": "97bdcb7f-ca6c-4da8-f6fd-119599b43c04"
      },
      "execution_count": 2,
      "outputs": [
        {
          "output_type": "stream",
          "name": "stdout",
          "text": [
            "hello\n",
            "goodmorning\n",
            "hello\n",
            "goodmorning\n"
          ]
        }
      ]
    },
    {
      "cell_type": "code",
      "source": [
        "def add(x,y):\n",
        "  c=x+y\n",
        "  print(c)\n",
        "  return c\n",
        "result=add(5,4)"
      ],
      "metadata": {
        "colab": {
          "base_uri": "https://localhost:8080/"
        },
        "id": "bqokYzQ75zT7",
        "outputId": "cf5950e3-5cb9-49f4-9c4f-c8556c12a80c"
      },
      "execution_count": 4,
      "outputs": [
        {
          "output_type": "stream",
          "name": "stdout",
          "text": [
            "9\n"
          ]
        }
      ]
    },
    {
      "cell_type": "code",
      "source": [
        "def update(x):\n",
        "  print(\"x\",x)\n",
        "update(10)\n",
        "update(15)"
      ],
      "metadata": {
        "colab": {
          "base_uri": "https://localhost:8080/"
        },
        "id": "Sr5vwieyFVnz",
        "outputId": "640febb9-0de2-4e93-801d-9a87f35fd2c7"
      },
      "execution_count": null,
      "outputs": [
        {
          "output_type": "stream",
          "name": "stdout",
          "text": [
            "x 10\n",
            "x 15\n"
          ]
        }
      ]
    },
    {
      "cell_type": "code",
      "source": [
        "def add():\n",
        "  a=10\n",
        "  b=20\n",
        "  c=a+b\n",
        "  return c\n",
        "print(add())"
      ],
      "metadata": {
        "colab": {
          "base_uri": "https://localhost:8080/"
        },
        "id": "bbhYptNLFqr5",
        "outputId": "3b37d58d-3156-4bbe-c4c6-f04508b83ad6"
      },
      "execution_count": null,
      "outputs": [
        {
          "output_type": "stream",
          "name": "stdout",
          "text": [
            "30\n"
          ]
        }
      ]
    },
    {
      "cell_type": "code",
      "source": [
        "class computer:\n",
        "  def config(self):\n",
        "    print(\"i5,16gb,1TB\")\n",
        "com1=computer()\n",
        "computer.config(com1)"
      ],
      "metadata": {
        "colab": {
          "base_uri": "https://localhost:8080/"
        },
        "id": "7qNHjGS61YH6",
        "outputId": "77df7c84-50a2-4e95-d4d1-9deec8d8abd3"
      },
      "execution_count": null,
      "outputs": [
        {
          "output_type": "stream",
          "name": "stdout",
          "text": [
            "i5,16gb,1TB\n"
          ]
        }
      ]
    },
    {
      "cell_type": "code",
      "source": [
        "f=open(\"\",\"r\")\n",
        "print(f)"
      ],
      "metadata": {
        "colab": {
          "base_uri": "https://localhost:8080/",
          "height": 190
        },
        "id": "JMmeqJ014GHq",
        "outputId": "f7c84ef4-f7ad-456c-c016-0af7520c762b"
      },
      "execution_count": null,
      "outputs": [
        {
          "output_type": "error",
          "ename": "FileNotFoundError",
          "evalue": "ignored",
          "traceback": [
            "\u001b[0;31m---------------------------------------------------------------------------\u001b[0m",
            "\u001b[0;31mFileNotFoundError\u001b[0m                         Traceback (most recent call last)",
            "\u001b[0;32m<ipython-input-26-9b2e157bd41a>\u001b[0m in \u001b[0;36m<module>\u001b[0;34m()\u001b[0m\n\u001b[0;32m----> 1\u001b[0;31m \u001b[0mf\u001b[0m\u001b[0;34m=\u001b[0m\u001b[0mopen\u001b[0m\u001b[0;34m(\u001b[0m\u001b[0;34m\"Media Queries\"\u001b[0m\u001b[0;34m,\u001b[0m\u001b[0;34m\"r\"\u001b[0m\u001b[0;34m)\u001b[0m\u001b[0;34m\u001b[0m\u001b[0;34m\u001b[0m\u001b[0m\n\u001b[0m\u001b[1;32m      2\u001b[0m \u001b[0mprint\u001b[0m\u001b[0;34m(\u001b[0m\u001b[0mf\u001b[0m\u001b[0;34m)\u001b[0m\u001b[0;34m\u001b[0m\u001b[0;34m\u001b[0m\u001b[0m\n",
            "\u001b[0;31mFileNotFoundError\u001b[0m: [Errno 2] No such file or directory: 'Media Queries'"
          ]
        }
      ]
    },
    {
      "cell_type": "code",
      "source": [
        "Employee={\"NAME\":\"john\",\"Age\":20,\"salary\":25000,\"company\":\"google\"}\n",
        "print(type(Employee))\n",
        "print(\"print Employee data\")\n",
        "print(Employee)\n"
      ],
      "metadata": {
        "colab": {
          "base_uri": "https://localhost:8080/"
        },
        "id": "IcV6uyeg8yn6",
        "outputId": "41aefcaf-1f0b-489a-bbee-de4e29c5b136"
      },
      "execution_count": null,
      "outputs": [
        {
          "output_type": "stream",
          "name": "stdout",
          "text": [
            "<class 'dict'>\n",
            "print Employee data\n",
            "{'NAME': 'john', 'Age': 20, 'salary': 25000, 'company': 'google'}\n"
          ]
        }
      ]
    },
    {
      "cell_type": "code",
      "execution_count": null,
      "metadata": {
        "colab": {
          "base_uri": "https://localhost:8080/"
        },
        "id": "9NMV7W3kqEdX",
        "outputId": "c85ab21c-2ab8-4cf6-d299-7dca3314728e"
      },
      "outputs": [
        {
          "name": "stdout",
          "output_type": "stream",
          "text": [
            "6\n"
          ]
        }
      ],
      "source": [
        "x=2\n",
        "y=3\n",
        "x+y\n",
        "y-x\n",
        "x-y\n",
        "x/y\n",
        "x*y\n",
        "x=x+2\n",
        "x=x+2\n",
        "print(x)\n",
        "x+=2\n",
        "x*=3\n",
        "a,b=5,6\n",
        "b\n",
        "n=7\n",
        "n\n",
        "n=-n"
      ]
    },
    {
      "cell_type": "code",
      "execution_count": null,
      "metadata": {
        "colab": {
          "base_uri": "https://localhost:8080/"
        },
        "id": "S7ksJl00rzSa",
        "outputId": "8f4d5334-46c3-4bac-9b65-d9105dc805be"
      },
      "outputs": [
        {
          "data": {
            "text/plain": [
              "True"
            ]
          },
          "execution_count": 22,
          "metadata": {},
          "output_type": "execute_result"
        }
      ],
      "source": [
        "a,b=5,6\n",
        "a<b\n",
        "a>b\n",
        "a==b\n",
        "a<=b\n",
        "a!=b"
      ]
    },
    {
      "cell_type": "code",
      "execution_count": null,
      "metadata": {
        "id": "NHpYh1ta7Z6q"
      },
      "outputs": [],
      "source": []
    },
    {
      "cell_type": "code",
      "execution_count": null,
      "metadata": {
        "colab": {
          "base_uri": "https://localhost:8080/"
        },
        "id": "XGATlwEx7jFL",
        "outputId": "0713460e-2ad2-4a2d-80c2-ea167de7abdc"
      },
      "outputs": [
        {
          "name": "stdout",
          "output_type": "stream",
          "text": [
            "Enter first number5\n",
            "Enter second number8\n",
            "13\n"
          ]
        }
      ],
      "source": [
        "x=int (input(\"Enter first number\"))\n",
        "y=int (input(\"Enter second number\"))\n",
        "z=x+y\n",
        "print(z)\n"
      ]
    },
    {
      "cell_type": "code",
      "execution_count": null,
      "metadata": {
        "colab": {
          "base_uri": "https://localhost:8080/"
        },
        "id": "BNwYvV27_BQ7",
        "outputId": "5f3a6374-cf7c-4b0b-c327-99a188d51ba9"
      },
      "outputs": [
        {
          "name": "stdout",
          "output_type": "stream",
          "text": [
            "Enter a charpqr\n",
            "p\n"
          ]
        }
      ],
      "source": [
        "ch=input(\"Enter a char\")\n",
        "print(ch[0])\n"
      ]
    },
    {
      "cell_type": "code",
      "execution_count": null,
      "metadata": {
        "colab": {
          "base_uri": "https://localhost:8080/"
        },
        "id": "XFRfQvwuALwG",
        "outputId": "bb8739d4-5e13-47ca-d67f-691bb168a698"
      },
      "outputs": [
        {
          "name": "stdout",
          "output_type": "stream",
          "text": [
            "Enter an expression2+2-1\n",
            "3\n"
          ]
        }
      ],
      "source": [
        "result=eval(input(\"Enter an expression\"))\n",
        "print(result)"
      ]
    },
    {
      "cell_type": "code",
      "execution_count": null,
      "metadata": {
        "colab": {
          "base_uri": "https://localhost:8080/"
        },
        "id": "kTOlkpOoBpd4",
        "outputId": "562fb112-e010-4bd3-d845-0d2ec93fee5f"
      },
      "outputs": [
        {
          "name": "stdout",
          "output_type": "stream",
          "text": [
            "21\n"
          ]
        }
      ],
      "source": [
        "x=5\n",
        "y=7\n",
        "z=9\n",
        "print(x+y+z)"
      ]
    },
    {
      "cell_type": "code",
      "execution_count": null,
      "metadata": {
        "colab": {
          "base_uri": "https://localhost:8080/"
        },
        "id": "QKS_-1e5CEwA",
        "outputId": "5b20e72c-8f24-4e80-cebc-a60a5d5719fb"
      },
      "outputs": [
        {
          "name": "stdout",
          "output_type": "stream",
          "text": [
            "Enter first number6\n",
            "Enter second number8\n",
            "Enter third number9\n",
            "23\n"
          ]
        }
      ],
      "source": [
        "u=int (input(\"Enter first number\"))\n",
        "v=int (input(\"Enter second number\"))\n",
        "w=int (input(\"Enter third number\"))\n",
        "z=u+v+w\n",
        "print(z)"
      ]
    },
    {
      "cell_type": "code",
      "execution_count": null,
      "metadata": {
        "colab": {
          "base_uri": "https://localhost:8080/"
        },
        "id": "j2urX4F_D0Za",
        "outputId": "756264ce-402d-46e1-d4ab-e1a3149ee472"
      },
      "outputs": [
        {
          "name": "stdout",
          "output_type": "stream",
          "text": [
            "Enter first number8\n",
            "Enter second number5\n",
            "8\n"
          ]
        }
      ],
      "source": [
        "x=int (input(\"Enter first number\"))\n",
        "y=int (input(\"Enter second number\"))\n",
        "if(x>=y):\n",
        "   print(x)\n",
        "else:\n",
        "   print(y)\n"
      ]
    },
    {
      "cell_type": "code",
      "execution_count": null,
      "metadata": {
        "colab": {
          "base_uri": "https://localhost:8080/"
        },
        "id": "PBhR3XyVnAZ_",
        "outputId": "96dc3046-6c41-4fef-be3a-a69c8c12a1f1"
      },
      "outputs": [
        {
          "name": "stdout",
          "output_type": "stream",
          "text": [
            "Enter marks59\n",
            "C\n"
          ]
        }
      ],
      "source": [
        "marks=int(input(\"Enter marks\"))\n",
        "if marks>70:\n",
        "  print(\"A\")\n",
        "elif marks>60 and marks<70:\n",
        "  print(\"B\")\n",
        "elif marks>50 and marks<60:\n",
        "  print(\"C\")\n",
        "elif marks>40 and marks<50:\n",
        "  print(\"D\")\n",
        "else:\n",
        "  print(\"E\")"
      ]
    },
    {
      "cell_type": "code",
      "execution_count": 8,
      "metadata": {
        "colab": {
          "base_uri": "https://localhost:8080/"
        },
        "id": "vOeschvLuwUp",
        "outputId": "29f6168f-75bb-4ace-c066-5b8e3d8c3afd"
      },
      "outputs": [
        {
          "name": "stdout",
          "output_type": "stream",
          "text": [
            "Enter quantity1000\n"
          ]
        }
      ],
      "source": [
        "quantity = int(input(\"Enter quantity\"))\n",
        "if quantity >= 1000:\n",
        "  discount = (10 * 100)\n",
        "else:\n",
        "  print(\"no discount\")\n",
        "\n"
      ]
    },
    {
      "cell_type": "code",
      "execution_count": null,
      "metadata": {
        "colab": {
          "base_uri": "https://localhost:8080/"
        },
        "id": "E8lKjwDiQPYi",
        "outputId": "bd81ee17-a228-41a3-fc92-d748f32dd6ff"
      },
      "outputs": [
        {
          "name": "stdout",
          "output_type": "stream",
          "text": [
            "Enter listkeith\n",
            "keith 1\n",
            "keith 2\n",
            "keith 3\n",
            "keith 4\n",
            "keith 5\n"
          ]
        }
      ],
      "source": [
        "list=input(\"Enter list\")\n",
        "l=1\n",
        "while l<=5:\n",
        "  print(list,l)\n",
        "  l=l+1\n"
      ]
    },
    {
      "cell_type": "code",
      "execution_count": null,
      "metadata": {
        "colab": {
          "base_uri": "https://localhost:8080/"
        },
        "id": "8dF4gg26ULSt",
        "outputId": "08aad38e-1f74-4ff2-9aef-284319e8132a"
      },
      "outputs": [
        {
          "name": "stdout",
          "output_type": "stream",
          "text": [
            "keith\n",
            "Leon\n",
            "Lewis\n"
          ]
        }
      ],
      "source": [
        "x=[\"keith\",\"Leon\",\"Lewis\"]\n",
        "for i in x:\n",
        "  print(i)"
      ]
    },
    {
      "cell_type": "code",
      "execution_count": null,
      "metadata": {
        "colab": {
          "base_uri": "https://localhost:8080/"
        },
        "id": "luAy436ldtLD",
        "outputId": "50e7ee75-0ce7-424a-fb7a-54ba7422ec47"
      },
      "outputs": [
        {
          "name": "stdout",
          "output_type": "stream",
          "text": [
            "N\n",
            "E\n",
            "V\n",
            "E\n",
            "N\n",
            "C\n",
            "Y\n"
          ]
        }
      ],
      "source": [
        "x=\"NEVENCY\"\n",
        "for i in x:\n",
        "  print(i)"
      ]
    },
    {
      "cell_type": "code",
      "execution_count": null,
      "metadata": {
        "colab": {
          "base_uri": "https://localhost:8080/"
        },
        "id": "u9bQGlJme6mL",
        "outputId": "068d2b8e-4cca-4a76-9817-dc0b6eaa41f6"
      },
      "outputs": [
        {
          "name": "stdout",
          "output_type": "stream",
          "text": [
            "1\n",
            "2\n",
            "3\n",
            "4\n",
            "5\n",
            "6\n",
            "7\n",
            "8\n",
            "9\n",
            "10\n",
            "11\n",
            "12\n",
            "13\n",
            "14\n",
            "15\n",
            "16\n",
            "17\n",
            "18\n",
            "19\n"
          ]
        }
      ],
      "source": [
        "\n",
        "for i in range (1,20,1):\n",
        "  print(i)\n"
      ]
    },
    {
      "cell_type": "code",
      "execution_count": null,
      "metadata": {
        "colab": {
          "base_uri": "https://localhost:8080/"
        },
        "id": "TEko0DjPhIi8",
        "outputId": "6c94938d-146f-471c-9077-3cff0013a9dc"
      },
      "outputs": [
        {
          "name": "stdout",
          "output_type": "stream",
          "text": [
            "1505\n",
            "1540\n",
            "1575\n",
            "1610\n",
            "1645\n",
            "1680\n",
            "1715\n",
            "1750\n",
            "1785\n",
            "1820\n",
            "1855\n",
            "1890\n",
            "1925\n",
            "1960\n",
            "1995\n",
            "2030\n",
            "2065\n",
            "2100\n",
            "2135\n",
            "2170\n",
            "2205\n",
            "2240\n",
            "2275\n",
            "2310\n",
            "2345\n",
            "2380\n",
            "2415\n",
            "2450\n",
            "2485\n",
            "2520\n",
            "2555\n",
            "2590\n",
            "2625\n",
            "2660\n",
            "2695\n"
          ]
        }
      ],
      "source": [
        "for i in range(1500,2701):\n",
        "  if i%5==0 and i%7==0:\n",
        "    print(i)\n",
        "\n",
        "\n"
      ]
    },
    {
      "cell_type": "code",
      "execution_count": null,
      "metadata": {
        "id": "6Tvp83rPOuXJ"
      },
      "outputs": [],
      "source": []
    },
    {
      "cell_type": "code",
      "execution_count": null,
      "metadata": {
        "colab": {
          "background_save": true,
          "base_uri": "https://localhost:8080/",
          "height": 172
        },
        "id": "1qLXmTTvQFQG",
        "outputId": "c4a902d8-6440-4acd-ce35-fcd26aa3fae4"
      },
      "outputs": [
        {
          "name": "stdout",
          "output_type": "stream",
          "text": [
            "#\n"
          ]
        }
      ],
      "source": [
        "print(\"#\",end-\"\")"
      ]
    },
    {
      "cell_type": "code",
      "execution_count": null,
      "metadata": {
        "colab": {
          "base_uri": "https://localhost:8080/",
          "height": 135
        },
        "id": "Vp14TpeDk6RH",
        "outputId": "37bb2afe-1370-4d9e-de37-97ed34f0a655"
      },
      "outputs": [
        {
          "ename": "SyntaxError",
          "evalue": "ignored",
          "output_type": "error",
          "traceback": [
            "\u001b[0;36m  File \u001b[0;32m\"<ipython-input-53-cf4a8a142aed>\"\u001b[0;36m, line \u001b[0;32m3\u001b[0m\n\u001b[0;31m    if c=((f-32/9)*5):\u001b[0m\n\u001b[0m        ^\u001b[0m\n\u001b[0;31mSyntaxError\u001b[0m\u001b[0;31m:\u001b[0m invalid syntax\n"
          ]
        }
      ],
      "source": [
        "c=input(\"Enter value in celsius\")\n",
        "f=input(\"Enter value in fahrenheit\")\n",
        "if c=(f-32/9)*5:\n",
        "  print(f)\n",
        "elif f=(9c-160)/45:\n",
        "  print(c)"
      ]
    },
    {
      "cell_type": "code",
      "execution_count": null,
      "metadata": {
        "colab": {
          "base_uri": "https://localhost:8080/"
        },
        "id": "1ajYl5f6q-oH",
        "outputId": "0647dd51-6c31-4e9b-8a3c-cb35d680eac3"
      },
      "outputs": [
        {
          "name": "stdout",
          "output_type": "stream",
          "text": [
            "How many candies do you want12\n"
          ]
        }
      ],
      "source": [
        "av=10\n",
        "x=int(input(\"How many candies do you want\"))\n",
        "i=1\n",
        "while i<=x:\n",
        "  if i>av:\n",
        "    break\n",
        "\n",
        "    print(\"candy\")\n",
        "    i=i+1\n"
      ]
    },
    {
      "cell_type": "code",
      "execution_count": null,
      "metadata": {
        "id": "UVVMxYPfvCR_"
      },
      "outputs": [],
      "source": []
    },
    {
      "cell_type": "code",
      "execution_count": 2,
      "metadata": {
        "colab": {
          "base_uri": "https://localhost:8080/"
        },
        "id": "_6gmm9T00W8c",
        "outputId": "becb9547-0b24-48e2-ef47-1635c6ee6315"
      },
      "outputs": [
        {
          "output_type": "stream",
          "name": "stdout",
          "text": [
            "Enter first name:Keith\n",
            "Enter second name:Clinton\n",
            "Keith 5\n",
            "Clinton 1\n",
            "Clinton 2\n",
            "Clinton 3\n",
            "Clinton 4\n"
          ]
        }
      ],
      "source": [
        "first_name=input(\"Enter first name:\")\n",
        "second_name=input(\"Enter second name:\")\n",
        "i=5\n",
        "j=1\n",
        "while i>=1:\n",
        "  print(first_name,i)\n",
        "  i=i+1\n",
        "  break\n",
        "\n",
        "while j<=4:\n",
        "    print(second_name,j)\n",
        "    j=j+1"
      ]
    },
    {
      "cell_type": "code",
      "execution_count": 3,
      "metadata": {
        "colab": {
          "base_uri": "https://localhost:8080/"
        },
        "id": "OF6QqYV4o-Ep",
        "outputId": "bb96f94c-e026-4fdb-a31a-bc1153d3023c"
      },
      "outputs": [
        {
          "output_type": "stream",
          "name": "stdout",
          "text": [
            "Enter colour:yelow\n",
            "Lewis\n"
          ]
        }
      ],
      "source": [
        "colour=input(\"Enter colour:\")\n",
        "if (\"brown\"):\n",
        "  print(\"Lewis\")\n",
        "else:\n",
        "  print(\"Leon\")"
      ]
    },
    {
      "cell_type": "code",
      "execution_count": 4,
      "metadata": {
        "colab": {
          "base_uri": "https://localhost:8080/"
        },
        "id": "0QTefuP-rBBV",
        "outputId": "02fef3cc-c6bf-44fb-de76-28c573c1d8a6"
      },
      "outputs": [
        {
          "output_type": "stream",
          "name": "stdout",
          "text": [
            "Enter age:7\n",
            "Not Promoted\n"
          ]
        }
      ],
      "source": [
        "age=int(input(\"Enter age:\"))\n",
        "if age>=8:\n",
        "  print(\"promoted\")\n",
        "else:\n",
        "  print(\"Not Promoted\")"
      ]
    },
    {
      "cell_type": "code",
      "execution_count": 5,
      "metadata": {
        "colab": {
          "base_uri": "https://localhost:8080/"
        },
        "id": "l-0_qlZCtAum",
        "outputId": "aa5c79fe-c0e6-4101-e527-d49b82e2d39f"
      },
      "outputs": [
        {
          "output_type": "stream",
          "name": "stdout",
          "text": [
            "Enter value of a:6\n",
            "Enter value of b:8\n",
            "Enter value of c:9\n",
            "C is the largest\n"
          ]
        }
      ],
      "source": [
        "a=int(input(\"Enter value of a:\"))\n",
        "b=int(input(\"Enter value of b:\"))\n",
        "c=int(input(\"Enter value of c:\"))\n",
        "if a>b and a>c:\n",
        "  print(\"a is the greatest\")\n",
        "if b>c and b>a:\n",
        "  print(\"b is the greatest\")\n",
        "if c>b and c>a:\n",
        "  print(\"C is the largest\")"
      ]
    },
    {
      "cell_type": "code",
      "execution_count": null,
      "metadata": {
        "id": "vmO7NQdddw_R"
      },
      "outputs": [],
      "source": []
    },
    {
      "cell_type": "code",
      "execution_count": null,
      "metadata": {
        "id": "-5_wAQCPe_nC"
      },
      "outputs": [],
      "source": [
        "salary_allocated=int(input(\"Enter salary\"))\n",
        "years_of_service=int(input(\"years_of_service\"))\n"
      ]
    },
    {
      "cell_type": "code",
      "execution_count": null,
      "metadata": {
        "colab": {
          "base_uri": "https://localhost:8080/"
        },
        "id": "Px86gZMfT3K9",
        "outputId": "e50eb840-09b1-47e4-ee46-fe3793efa0b3"
      },
      "outputs": [
        {
          "data": {
            "text/plain": [
              "-13"
            ]
          },
          "execution_count": 44,
          "metadata": {},
          "output_type": "execute_result"
        }
      ],
      "source": [
        "~12"
      ]
    },
    {
      "cell_type": "code",
      "execution_count": 10,
      "metadata": {
        "colab": {
          "base_uri": "https://localhost:8080/"
        },
        "id": "A8veYaFYXBXH",
        "outputId": "ca60d557-79c8-45fa-e0ed-9204d7bc4d5b"
      },
      "outputs": [
        {
          "output_type": "stream",
          "name": "stdout",
          "text": [
            "Enter first number:9\n",
            "Enter second number:8\n",
            "17\n"
          ]
        }
      ],
      "source": [
        "a=int(input(\"Enter first number:\"))\n",
        "b=int(input(\"Enter second number:\"))\n",
        "c=(int(a+b))\n",
        "print(c)"
      ]
    },
    {
      "cell_type": "code",
      "execution_count": null,
      "metadata": {
        "colab": {
          "base_uri": "https://localhost:8080/"
        },
        "id": "L9SNByQGsFXR",
        "outputId": "7db6fc46-a57b-43ae-c07b-2cfcebab715c"
      },
      "outputs": [
        {
          "data": {
            "text/plain": [
              "True"
            ]
          },
          "execution_count": 24,
          "metadata": {},
          "output_type": "execute_result"
        }
      ],
      "source": [
        "a=5\n",
        "b=4\n",
        "a<8 and b<5\n",
        "a<8 or b<5"
      ]
    },
    {
      "cell_type": "markdown",
      "metadata": {
        "id": "dR1_qBFnr8cF"
      },
      "source": [
        "a"
      ]
    },
    {
      "cell_type": "code",
      "execution_count": null,
      "metadata": {
        "id": "4v3EOuS2r9S7"
      },
      "outputs": [],
      "source": []
    },
    {
      "cell_type": "code",
      "execution_count": 11,
      "metadata": {
        "colab": {
          "base_uri": "https://localhost:8080/"
        },
        "id": "sx5bDePG-TUZ",
        "outputId": "6954d959-d145-4b59-bd2a-7bc83b7a4a91"
      },
      "outputs": [
        {
          "output_type": "execute_result",
          "data": {
            "text/plain": [
              "71"
            ]
          },
          "metadata": {},
          "execution_count": 11
        }
      ],
      "source": [
        "nums=[25,12,34,71]\n",
        "nums\n",
        "nums[0]\n",
        "nums[2:]\n",
        "nums[-1]"
      ]
    },
    {
      "cell_type": "code",
      "execution_count": null,
      "metadata": {
        "colab": {
          "base_uri": "https://localhost:8080/"
        },
        "id": "cGiy1Oa8_Yxz",
        "outputId": "30305e96-5428-402a-b557-0b8a34fc5f5a"
      },
      "outputs": [
        {
          "name": "stdout",
          "output_type": "stream",
          "text": [
            "['Keith', 'Leon', 'Lewis']\n"
          ]
        }
      ],
      "source": [
        "names=['Keith','Leon' ,'Lewis']\n",
        "print(names)"
      ]
    },
    {
      "cell_type": "code",
      "execution_count": null,
      "metadata": {
        "colab": {
          "base_uri": "https://localhost:8080/"
        },
        "id": "tKSptWroAAaP",
        "outputId": "40573a8d-1345-49fd-e3c0-5df374b6791c"
      },
      "outputs": [
        {
          "data": {
            "text/plain": [
              "[25, 12, 34, 71, 45, 45]"
            ]
          },
          "execution_count": 15,
          "metadata": {},
          "output_type": "execute_result"
        }
      ],
      "source": [
        "values=[9.5,'Leon',25]\n",
        "mil=[nums,names]\n",
        "mil\n",
        "nums.append (45)\n",
        "nums"
      ]
    },
    {
      "cell_type": "code",
      "execution_count": null,
      "metadata": {
        "colab": {
          "base_uri": "https://localhost:8080/"
        },
        "id": "cBpVlONUCNjP",
        "outputId": "e475db6c-2068-4531-c4e6-fc28d23f9cde"
      },
      "outputs": [
        {
          "data": {
            "text/plain": [
              "{6, 11, 23, 76, 77, 445}"
            ]
          },
          "execution_count": 18,
          "metadata": {},
          "output_type": "execute_result"
        }
      ],
      "source": [
        "tup=(21,34,45,55,67)\n",
        "tup\n",
        "tup[1]\n",
        "tup.count\n",
        "s={ 11,23,445,6,77,76}\n",
        "s."
      ]
    },
    {
      "cell_type": "code",
      "execution_count": 12,
      "metadata": {
        "id": "-gTjZgxgPpi9"
      },
      "outputs": [],
      "source": [
        "students_count = 1000\n",
        "rating = 4.99\n",
        "is_published = False\n",
        "course_name = \"python programming\""
      ]
    },
    {
      "cell_type": "code",
      "execution_count": 13,
      "metadata": {
        "id": "bmK-m4hBRwA1"
      },
      "outputs": [],
      "source": [
        "patient_name = \"John Smith\"\n",
        "age = 20\n",
        "status = \"New patient\""
      ]
    },
    {
      "cell_type": "code",
      "execution_count": 14,
      "metadata": {
        "colab": {
          "base_uri": "https://localhost:8080/"
        },
        "id": "en2JWARUVdYM",
        "outputId": "e3de3dd7-4717-4fe6-cc48-8b4dd5495726"
      },
      "outputs": [
        {
          "output_type": "stream",
          "name": "stdout",
          "text": [
            "<class 'complex'>\n"
          ]
        }
      ],
      "source": [
        "c=1+3j\n",
        "print(type(c))"
      ]
    }
  ],
  "metadata": {
    "colab": {
      "provenance": [],
      "authorship_tag": "ABX9TyMTbXKuzxJ1FX7Dl2EdOMC+",
      "include_colab_link": true
    },
    "kernelspec": {
      "display_name": "Python 3",
      "name": "python3"
    },
    "language_info": {
      "name": "python"
    }
  },
  "nbformat": 4,
  "nbformat_minor": 0
}